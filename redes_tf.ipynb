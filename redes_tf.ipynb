{
 "cells": [
  {
   "cell_type": "code",
   "execution_count": 23,
   "id": "071d3783",
   "metadata": {},
   "outputs": [],
   "source": [
    "import tensorflow as tf\n",
    "from tensorflow import keras as keras\n",
    "from keras.datasets import mnist\n",
    "from keras.models import Sequential\n",
    "from keras.layers import Dense, Dropout, Activation\n",
    "from keras.optimizers import RMSprop, SGD, Adam\n",
    "from keras import regularizers\n",
    "import numpy as np\n",
    "\n",
    "dt = mnist.load_data()\n",
    "(x_train, y_train), (x_test, y_test) = dt\n",
    "\n",
    "x_trainv = x_train.reshape(60000, 784).astype('float32')/255\n",
    "x_testv = x_test.reshape(10000, 784).astype('float32')/255\n",
    "y_trainc = keras.utils.to_categorical(y_train, 10)\n",
    "y_testc = keras.utils.to_categorical(y_test, 10)"
   ]
  },
  {
   "cell_type": "code",
   "execution_count": 24,
   "id": "2ca59f71",
   "metadata": {},
   "outputs": [
    {
     "name": "stdout",
     "output_type": "stream",
     "text": [
      "Epoch 1/10\n",
      "6000/6000 [==============================] - 16s 3ms/step - loss: 0.2760 - accuracy: 0.9191 - val_loss: 0.1542 - val_accuracy: 0.9546\n",
      "Epoch 2/10\n",
      "6000/6000 [==============================] - 14s 2ms/step - loss: 0.1144 - accuracy: 0.9654 - val_loss: 0.0985 - val_accuracy: 0.9694\n",
      "Epoch 3/10\n",
      "6000/6000 [==============================] - 15s 3ms/step - loss: 0.0687 - accuracy: 0.9786 - val_loss: 0.0720 - val_accuracy: 0.9770\n",
      "Epoch 4/10\n",
      "6000/6000 [==============================] - 15s 2ms/step - loss: 0.0464 - accuracy: 0.9851 - val_loss: 0.0722 - val_accuracy: 0.9789\n",
      "Epoch 5/10\n",
      "6000/6000 [==============================] - 14s 2ms/step - loss: 0.0310 - accuracy: 0.9904 - val_loss: 0.0732 - val_accuracy: 0.9778\n",
      "Epoch 6/10\n",
      "6000/6000 [==============================] - 15s 3ms/step - loss: 0.0235 - accuracy: 0.9927 - val_loss: 0.0678 - val_accuracy: 0.9795\n",
      "Epoch 7/10\n",
      "6000/6000 [==============================] - 14s 2ms/step - loss: 0.0163 - accuracy: 0.9950 - val_loss: 0.0711 - val_accuracy: 0.9799\n",
      "Epoch 8/10\n",
      "6000/6000 [==============================] - 15s 2ms/step - loss: 0.0117 - accuracy: 0.9964 - val_loss: 0.0691 - val_accuracy: 0.9810\n",
      "Epoch 9/10\n",
      "6000/6000 [==============================] - 15s 3ms/step - loss: 0.0088 - accuracy: 0.9972 - val_loss: 0.0773 - val_accuracy: 0.9790\n",
      "Epoch 10/10\n",
      "6000/6000 [==============================] - 15s 3ms/step - loss: 0.0071 - accuracy: 0.9979 - val_loss: 0.0737 - val_accuracy: 0.9810\n"
     ]
    }
   ],
   "source": [
    "# Tarea 3 parte a)\n",
    "# La red que hice para la última tarea fue con Adam y categorical crossentropy. No obstante a mí no me funcionó \n",
    "# por lo que cualquier resultado hubiera sido bueno. Posteriormente hice unas correciones y los resultados \n",
    "# fueron más satisfactorios.\n",
    "modelo1 = Sequential([\n",
    "    Dense(512, activation='sigmoid', input_shape=(784,)),\n",
    "    Dense(10, activation=\"softmax\")\n",
    "])\n",
    "\n",
    "modelo1.compile(loss='categorical_crossentropy',optimizer=Adam(learning_rate=1e-3),metrics=['accuracy'])\n",
    "history = modelo1.fit(x_trainv, y_trainc, batch_size = 10, epochs = 10, validation_data = (x_testv, y_testc))"
   ]
  },
  {
   "cell_type": "code",
   "execution_count": null,
   "id": "1cfda928",
   "metadata": {},
   "outputs": [],
   "source": []
  }
 ],
 "metadata": {
  "kernelspec": {
   "display_name": "Python 3 (ipykernel)",
   "language": "python",
   "name": "python3"
  },
  "language_info": {
   "codemirror_mode": {
    "name": "ipython",
    "version": 3
   },
   "file_extension": ".py",
   "mimetype": "text/x-python",
   "name": "python",
   "nbconvert_exporter": "python",
   "pygments_lexer": "ipython3",
   "version": "3.10.13"
  }
 },
 "nbformat": 4,
 "nbformat_minor": 5
}
