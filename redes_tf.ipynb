{
 "cells": [
  {
   "cell_type": "code",
   "execution_count": 23,
   "id": "071d3783",
   "metadata": {},
   "outputs": [],
   "source": [
    "import tensorflow as tf\n",
    "from tensorflow import keras as keras\n",
    "from keras.datasets import mnist\n",
    "from keras.models import Sequential\n",
    "from keras.layers import Dense, Dropout, Activation\n",
    "from keras.optimizers import RMSprop, SGD, Adam\n",
    "from keras import regularizers\n",
    "import numpy as np\n",
    "\n",
    "dt = mnist.load_data()\n",
    "(x_train, y_train), (x_test, y_test) = dt\n",
    "\n",
    "x_trainv = x_train.reshape(60000, 784).astype('float32')/255\n",
    "x_testv = x_test.reshape(10000, 784).astype('float32')/255\n",
    "y_trainc = keras.utils.to_categorical(y_train, 10)\n",
    "y_testc = keras.utils.to_categorical(y_test, 10)"
   ]
  },
  {
   "cell_type": "code",
   "execution_count": 25,
   "id": "8f0125f5",
   "metadata": {},
   "outputs": [
    {
     "name": "stdout",
     "output_type": "stream",
     "text": [
      "Epoch 1/10\n",
      "6000/6000 [==============================] - 7s 1ms/step - loss: 0.4319 - accuracy: 0.8943 - val_loss: 0.2434 - val_accuracy: 0.9321\n",
      "Epoch 2/10\n",
      "6000/6000 [==============================] - 7s 1ms/step - loss: 0.2130 - accuracy: 0.9387 - val_loss: 0.1866 - val_accuracy: 0.9472\n",
      "Epoch 3/10\n",
      "6000/6000 [==============================] - 7s 1ms/step - loss: 0.1702 - accuracy: 0.9512 - val_loss: 0.1649 - val_accuracy: 0.9537\n",
      "Epoch 4/10\n",
      "6000/6000 [==============================] - 7s 1ms/step - loss: 0.1453 - accuracy: 0.9585 - val_loss: 0.1544 - val_accuracy: 0.9560\n",
      "Epoch 5/10\n",
      "6000/6000 [==============================] - 7s 1ms/step - loss: 0.1293 - accuracy: 0.9620 - val_loss: 0.1426 - val_accuracy: 0.9579\n",
      "Epoch 6/10\n",
      "6000/6000 [==============================] - 7s 1ms/step - loss: 0.1173 - accuracy: 0.9663 - val_loss: 0.1376 - val_accuracy: 0.9604\n",
      "Epoch 7/10\n",
      "6000/6000 [==============================] - 7s 1ms/step - loss: 0.1074 - accuracy: 0.9686 - val_loss: 0.1333 - val_accuracy: 0.9610\n",
      "Epoch 8/10\n",
      "6000/6000 [==============================] - 7s 1ms/step - loss: 0.1001 - accuracy: 0.9707 - val_loss: 0.1307 - val_accuracy: 0.9621\n",
      "Epoch 9/10\n",
      "6000/6000 [==============================] - 7s 1ms/step - loss: 0.0938 - accuracy: 0.9723 - val_loss: 0.1305 - val_accuracy: 0.9615\n",
      "Epoch 10/10\n",
      "6000/6000 [==============================] - 7s 1ms/step - loss: 0.0880 - accuracy: 0.9744 - val_loss: 0.1309 - val_accuracy: 0.9607\n"
     ]
    }
   ],
   "source": [
    "# Tarea 3 parte a)\n",
    "# La red que hice para la última tarea fue con Adam y categorical crossentropy. No obstante a mí no me funcionó \n",
    "# por lo que cualquier resultado hubiera sido bueno. Posteriormente hice unas correciones y los resultados \n",
    "# fueron más satisfactorios.\n",
    "modelo1 = Sequential([\n",
    "    Dense(30, activation='sigmoid', input_shape=(784,)),\n",
    "    Dense(10, activation=\"softmax\")\n",
    "])\n",
    "\n",
    "modelo1.compile(loss='categorical_crossentropy',optimizer=Adam(learning_rate=1e-3),metrics=['accuracy'])\n",
    "history = modelo1.fit(x_trainv, y_trainc, batch_size = 10, epochs = 10, validation_data = (x_testv, y_testc))"
   ]
  },
  {
   "cell_type": "code",
   "execution_count": 26,
   "id": "abdcbbae",
   "metadata": {},
   "outputs": [],
   "source": [
    "modelo1.save(\"modelo1.h5\")"
   ]
  },
  {
   "cell_type": "code",
   "execution_count": 30,
   "id": "56995bf6",
   "metadata": {},
   "outputs": [
    {
     "name": "stdout",
     "output_type": "stream",
     "text": [
      "Epoch 1/10\n",
      "6000/6000 [==============================] - 15s 2ms/step - loss: 0.2756 - accuracy: 0.9179 - val_loss: 0.1468 - val_accuracy: 0.9558\n",
      "Epoch 2/10\n",
      "6000/6000 [==============================] - 14s 2ms/step - loss: 0.1133 - accuracy: 0.9657 - val_loss: 0.0921 - val_accuracy: 0.9709\n",
      "Epoch 3/10\n",
      "6000/6000 [==============================] - 14s 2ms/step - loss: 0.0690 - accuracy: 0.9785 - val_loss: 0.0805 - val_accuracy: 0.9753\n",
      "Epoch 4/10\n",
      "6000/6000 [==============================] - 15s 2ms/step - loss: 0.0455 - accuracy: 0.9855 - val_loss: 0.0702 - val_accuracy: 0.9787\n",
      "Epoch 5/10\n",
      "6000/6000 [==============================] - 15s 2ms/step - loss: 0.0310 - accuracy: 0.9903 - val_loss: 0.0746 - val_accuracy: 0.9789\n",
      "Epoch 6/10\n",
      "6000/6000 [==============================] - 14s 2ms/step - loss: 0.0213 - accuracy: 0.9934 - val_loss: 0.0806 - val_accuracy: 0.9762\n",
      "Epoch 7/10\n",
      "6000/6000 [==============================] - 14s 2ms/step - loss: 0.0150 - accuracy: 0.9955 - val_loss: 0.0708 - val_accuracy: 0.9804\n",
      "Epoch 8/10\n",
      "6000/6000 [==============================] - 15s 3ms/step - loss: 0.0119 - accuracy: 0.9964 - val_loss: 0.0674 - val_accuracy: 0.9825\n",
      "Epoch 9/10\n",
      "6000/6000 [==============================] - 16s 3ms/step - loss: 0.0080 - accuracy: 0.9975 - val_loss: 0.0803 - val_accuracy: 0.9795\n",
      "Epoch 10/10\n",
      "6000/6000 [==============================] - 15s 3ms/step - loss: 0.0069 - accuracy: 0.9978 - val_loss: 0.0711 - val_accuracy: 0.9829\n"
     ]
    }
   ],
   "source": [
    "# Tarea 3 b.1) \n",
    "\n",
    "modelo2 = Sequential([\n",
    "    Dense(512, activation='sigmoid', input_shape=(784,)),\n",
    "    Dense(10, activation=\"softmax\")\n",
    "])\n",
    "\n",
    "modelo2.compile(loss='categorical_crossentropy',optimizer=Adam(learning_rate=1e-3),metrics=['accuracy'])\n",
    "history = modelo2.fit(x_trainv, y_trainc, batch_size = 10, epochs = 10, validation_data = (x_testv, y_testc))\n",
    "modelo2.save(\"modelo2.h5\")"
   ]
  },
  {
   "cell_type": "code",
   "execution_count": 31,
   "id": "d411fc5f",
   "metadata": {},
   "outputs": [
    {
     "name": "stdout",
     "output_type": "stream",
     "text": [
      "Epoch 1/10\n",
      "6000/6000 [==============================] - 9s 1ms/step - loss: 0.0825 - accuracy: 0.2959 - val_loss: 0.0803 - val_accuracy: 0.3055\n",
      "Epoch 2/10\n",
      "6000/6000 [==============================] - 8s 1ms/step - loss: 0.0805 - accuracy: 0.3038 - val_loss: 0.0797 - val_accuracy: 0.3074\n",
      "Epoch 3/10\n",
      "6000/6000 [==============================] - 8s 1ms/step - loss: 0.0800 - accuracy: 0.3056 - val_loss: 0.0796 - val_accuracy: 0.3081\n",
      "Epoch 4/10\n",
      "6000/6000 [==============================] - 8s 1ms/step - loss: 0.0797 - accuracy: 0.3066 - val_loss: 0.0795 - val_accuracy: 0.3075\n",
      "Epoch 5/10\n",
      "6000/6000 [==============================] - 8s 1ms/step - loss: 0.0795 - accuracy: 0.3072 - val_loss: 0.0794 - val_accuracy: 0.3082\n",
      "Epoch 6/10\n",
      "6000/6000 [==============================] - 9s 1ms/step - loss: 0.0794 - accuracy: 0.3076 - val_loss: 0.0794 - val_accuracy: 0.3064\n",
      "Epoch 7/10\n",
      "6000/6000 [==============================] - 9s 1ms/step - loss: 0.0793 - accuracy: 0.3077 - val_loss: 0.0793 - val_accuracy: 0.3097\n",
      "Epoch 8/10\n",
      "6000/6000 [==============================] - 9s 1ms/step - loss: 0.0793 - accuracy: 0.3080 - val_loss: 0.0794 - val_accuracy: 0.3086\n",
      "Epoch 9/10\n",
      "6000/6000 [==============================] - 8s 1ms/step - loss: 0.0792 - accuracy: 0.3082 - val_loss: 0.0795 - val_accuracy: 0.3083\n",
      "Epoch 10/10\n",
      "6000/6000 [==============================] - 9s 1ms/step - loss: 0.0792 - accuracy: 0.3083 - val_loss: 0.0794 - val_accuracy: 0.3060\n"
     ]
    }
   ],
   "source": [
    "# Tarea 3 b.2) \n",
    "\n",
    "modelo3 = Sequential([\n",
    "    Dense(256, activation='sigmoid', input_shape=(784,)),\n",
    "    Dense(30, activation='sigmoid'),\n",
    "    Dense(89, activation='sigmoid'),\n",
    "    Dense(10, activation=\"relu\")\n",
    "])\n",
    "\n",
    "modelo3.compile(loss='mean_squared_error',optimizer=Adam(learning_rate=1e-3),metrics=['accuracy'])\n",
    "history = modelo3.fit(x_trainv, y_trainc, batch_size = 10, epochs = 10, validation_data = (x_testv, y_testc))\n",
    "modelo3.save(\"modelo3.h5\")"
   ]
  },
  {
   "cell_type": "code",
   "execution_count": 42,
   "id": "658e3c0d",
   "metadata": {},
   "outputs": [
    {
     "name": "stdout",
     "output_type": "stream",
     "text": [
      "Epoch 1/33\n",
      "6000/6000 [==============================] - 9s 1ms/step - loss: 0.2989 - accuracy: 0.9099 - val_loss: 0.2027 - val_accuracy: 0.9366\n",
      "Epoch 2/33\n",
      "6000/6000 [==============================] - 8s 1ms/step - loss: 0.1579 - accuracy: 0.9524 - val_loss: 0.1370 - val_accuracy: 0.9597\n",
      "Epoch 3/33\n",
      "6000/6000 [==============================] - 8s 1ms/step - loss: 0.1259 - accuracy: 0.9625 - val_loss: 0.1437 - val_accuracy: 0.9595\n",
      "Epoch 4/33\n",
      "6000/6000 [==============================] - 9s 1ms/step - loss: 0.1093 - accuracy: 0.9662 - val_loss: 0.1228 - val_accuracy: 0.9654\n",
      "Epoch 5/33\n",
      "6000/6000 [==============================] - 8s 1ms/step - loss: 0.0956 - accuracy: 0.9704 - val_loss: 0.1373 - val_accuracy: 0.9622\n",
      "Epoch 6/33\n",
      "6000/6000 [==============================] - 8s 1ms/step - loss: 0.0885 - accuracy: 0.9725 - val_loss: 0.1157 - val_accuracy: 0.9682\n",
      "Epoch 7/33\n",
      "6000/6000 [==============================] - 8s 1ms/step - loss: 0.0813 - accuracy: 0.9752 - val_loss: 0.1249 - val_accuracy: 0.9657\n",
      "Epoch 8/33\n",
      "6000/6000 [==============================] - 8s 1ms/step - loss: 0.0731 - accuracy: 0.9771 - val_loss: 0.1465 - val_accuracy: 0.9611\n",
      "Epoch 9/33\n",
      "6000/6000 [==============================] - 8s 1ms/step - loss: 0.0681 - accuracy: 0.9783 - val_loss: 0.1315 - val_accuracy: 0.9657\n",
      "Epoch 10/33\n",
      "6000/6000 [==============================] - 8s 1ms/step - loss: 0.0651 - accuracy: 0.9795 - val_loss: 0.1293 - val_accuracy: 0.9649\n",
      "Epoch 11/33\n",
      "6000/6000 [==============================] - 8s 1ms/step - loss: 0.0607 - accuracy: 0.9805 - val_loss: 0.1233 - val_accuracy: 0.9674\n",
      "Epoch 12/33\n",
      "6000/6000 [==============================] - 8s 1ms/step - loss: 0.0584 - accuracy: 0.9814 - val_loss: 0.1203 - val_accuracy: 0.9682\n",
      "Epoch 13/33\n",
      "6000/6000 [==============================] - 8s 1ms/step - loss: 0.0558 - accuracy: 0.9818 - val_loss: 0.1256 - val_accuracy: 0.9660\n",
      "Epoch 14/33\n",
      "6000/6000 [==============================] - 8s 1ms/step - loss: 0.0549 - accuracy: 0.9822 - val_loss: 0.1286 - val_accuracy: 0.9673\n",
      "Epoch 15/33\n",
      "6000/6000 [==============================] - 8s 1ms/step - loss: 0.0510 - accuracy: 0.9837 - val_loss: 0.1294 - val_accuracy: 0.9682\n",
      "Epoch 16/33\n",
      "6000/6000 [==============================] - 8s 1ms/step - loss: 0.0473 - accuracy: 0.9845 - val_loss: 0.1356 - val_accuracy: 0.9677\n",
      "Epoch 17/33\n",
      "6000/6000 [==============================] - 8s 1ms/step - loss: 0.0457 - accuracy: 0.9849 - val_loss: 0.1301 - val_accuracy: 0.9693\n",
      "Epoch 18/33\n",
      "6000/6000 [==============================] - 8s 1ms/step - loss: 0.0443 - accuracy: 0.9856 - val_loss: 0.1493 - val_accuracy: 0.9674\n",
      "Epoch 19/33\n",
      "6000/6000 [==============================] - 9s 1ms/step - loss: 0.0431 - accuracy: 0.9863 - val_loss: 0.1392 - val_accuracy: 0.9684\n",
      "Epoch 20/33\n",
      "6000/6000 [==============================] - 8s 1ms/step - loss: 0.0431 - accuracy: 0.9868 - val_loss: 0.1504 - val_accuracy: 0.9672\n",
      "Epoch 21/33\n",
      "6000/6000 [==============================] - 8s 1ms/step - loss: 0.0402 - accuracy: 0.9876 - val_loss: 0.1454 - val_accuracy: 0.9691\n",
      "Epoch 22/33\n",
      "6000/6000 [==============================] - 8s 1ms/step - loss: 0.0409 - accuracy: 0.9873 - val_loss: 0.1437 - val_accuracy: 0.9676\n",
      "Epoch 23/33\n",
      "6000/6000 [==============================] - 8s 1ms/step - loss: 0.0388 - accuracy: 0.9876 - val_loss: 0.1464 - val_accuracy: 0.9691\n",
      "Epoch 24/33\n",
      "6000/6000 [==============================] - 8s 1ms/step - loss: 0.0387 - accuracy: 0.9873 - val_loss: 0.1660 - val_accuracy: 0.9693\n",
      "Epoch 25/33\n",
      "6000/6000 [==============================] - 9s 1ms/step - loss: 0.0371 - accuracy: 0.9881 - val_loss: 0.1583 - val_accuracy: 0.9700\n",
      "Epoch 26/33\n",
      "6000/6000 [==============================] - 8s 1ms/step - loss: 0.0347 - accuracy: 0.9891 - val_loss: 0.1599 - val_accuracy: 0.9698\n",
      "Epoch 27/33\n",
      "6000/6000 [==============================] - 9s 1ms/step - loss: 0.0359 - accuracy: 0.9888 - val_loss: 0.1829 - val_accuracy: 0.9634\n",
      "Epoch 28/33\n",
      "6000/6000 [==============================] - 8s 1ms/step - loss: 0.0348 - accuracy: 0.9891 - val_loss: 0.1688 - val_accuracy: 0.9663\n",
      "Epoch 29/33\n",
      "6000/6000 [==============================] - 8s 1ms/step - loss: 0.0334 - accuracy: 0.9892 - val_loss: 0.1681 - val_accuracy: 0.9701\n",
      "Epoch 30/33\n",
      "6000/6000 [==============================] - 8s 1ms/step - loss: 0.0331 - accuracy: 0.9894 - val_loss: 0.1576 - val_accuracy: 0.9675\n",
      "Epoch 31/33\n",
      "6000/6000 [==============================] - 8s 1ms/step - loss: 0.0342 - accuracy: 0.9896 - val_loss: 0.1935 - val_accuracy: 0.9676\n",
      "Epoch 32/33\n",
      "6000/6000 [==============================] - 8s 1ms/step - loss: 0.0312 - accuracy: 0.9902 - val_loss: 0.1808 - val_accuracy: 0.9684\n",
      "Epoch 33/33\n",
      "6000/6000 [==============================] - 8s 1ms/step - loss: 0.0332 - accuracy: 0.9900 - val_loss: 0.1870 - val_accuracy: 0.9671\n"
     ]
    }
   ],
   "source": [
    "# Tarea 3 b.3)\n",
    "\n",
    "modelo4 = Sequential([\n",
    "    Dense(30, activation='relu', input_shape=(784,)),\n",
    "    Dense(30, activation='relu'),\n",
    "    Dense(30, activation='relu'),\n",
    "    Dense(30, activation='relu'),\n",
    "    Dense(10, activation=\"softmax\")\n",
    "])\n",
    "\n",
    "modelo4.compile(loss='categorical_crossentropy',optimizer=Adam(learning_rate=1e-3),metrics=['accuracy'])\n",
    "history = modelo4.fit(x_trainv, y_trainc, batch_size = 10, epochs = 33, validation_data = (x_testv, y_testc))\n",
    "modelo4.save(\"modelo4.h5\") "
   ]
  },
  {
   "cell_type": "code",
   "execution_count": null,
   "id": "2b12fbfd",
   "metadata": {},
   "outputs": [],
   "source": []
  }
 ],
 "metadata": {
  "kernelspec": {
   "display_name": "Python 3 (ipykernel)",
   "language": "python",
   "name": "python3"
  },
  "language_info": {
   "codemirror_mode": {
    "name": "ipython",
    "version": 3
   },
   "file_extension": ".py",
   "mimetype": "text/x-python",
   "name": "python",
   "nbconvert_exporter": "python",
   "pygments_lexer": "ipython3",
   "version": "3.10.13"
  }
 },
 "nbformat": 4,
 "nbformat_minor": 5
}
