{
 "cells": [
  {
   "cell_type": "code",
   "execution_count": 23,
   "id": "071d3783",
   "metadata": {},
   "outputs": [],
   "source": [
    "import tensorflow as tf\n",
    "from tensorflow import keras as keras\n",
    "from keras.datasets import mnist\n",
    "from keras.models import Sequential\n",
    "from keras.layers import Dense, Dropout, Activation\n",
    "from keras.optimizers import RMSprop, SGD, Adam\n",
    "from keras import regularizers\n",
    "import numpy as np\n",
    "\n",
    "dt = mnist.load_data()\n",
    "(x_train, y_train), (x_test, y_test) = dt\n",
    "\n",
    "x_trainv = x_train.reshape(60000, 784).astype('float32')/255\n",
    "x_testv = x_test.reshape(10000, 784).astype('float32')/255\n",
    "y_trainc = keras.utils.to_categorical(y_train, 10)\n",
    "y_testc = keras.utils.to_categorical(y_test, 10)"
   ]
  },
  {
   "cell_type": "code",
   "execution_count": null,
   "id": "5064d73e",
   "metadata": {},
   "outputs": [
    {
     "name": "stdout",
     "output_type": "stream",
     "text": [
      "Epoch 1/10\n",
      "6000/6000 [==============================] - 7s 1ms/step - loss: 0.4319 - accuracy: 0.8943 - val_loss: 0.2434 - val_accuracy: 0.9321\n",
      "Epoch 2/10\n",
      "6000/6000 [==============================] - 7s 1ms/step - loss: 0.2130 - accuracy: 0.9387 - val_loss: 0.1866 - val_accuracy: 0.9472\n",
      "Epoch 3/10\n",
      "6000/6000 [==============================] - 7s 1ms/step - loss: 0.1702 - accuracy: 0.9512 - val_loss: 0.1649 - val_accuracy: 0.9537\n",
      "Epoch 4/10\n",
      "1784/6000 [=======>......................] - ETA: 4s - loss: 0.1497 - accuracy: 0.9575"
     ]
    }
   ],
   "source": [
    "# Tarea 3 parte a)\n",
    "# La red que hice para la última tarea fue con Adam y categorical crossentropy. No obstante a mí no me funcionó \n",
    "# por lo que cualquier resultado hubiera sido bueno. Posteriormente hice unas correciones y los resultados \n",
    "# fueron más satisfactorios.\n",
    "modelo1 = Sequential([\n",
    "    Dense(30, activation='sigmoid', input_shape=(784,)),\n",
    "    Dense(10, activation=\"softmax\")\n",
    "])\n",
    "\n",
    "modelo1.compile(loss='categorical_crossentropy',optimizer=Adam(learning_rate=1e-3),metrics=['accuracy'])\n",
    "history = modelo1.fit(x_trainv, y_trainc, batch_size = 10, epochs = 10, validation_data = (x_testv, y_testc))"
   ]
  },
  {
   "cell_type": "code",
   "execution_count": null,
   "id": "69808212",
   "metadata": {},
   "outputs": [],
   "source": []
  }
 ],
 "metadata": {
  "kernelspec": {
   "display_name": "Python 3 (ipykernel)",
   "language": "python",
   "name": "python3"
  },
  "language_info": {
   "codemirror_mode": {
    "name": "ipython",
    "version": 3
   },
   "file_extension": ".py",
   "mimetype": "text/x-python",
   "name": "python",
   "nbconvert_exporter": "python",
   "pygments_lexer": "ipython3",
   "version": "3.10.13"
  }
 },
 "nbformat": 4,
 "nbformat_minor": 5
}
