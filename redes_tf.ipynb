{
 "cells": [
  {
   "cell_type": "code",
   "execution_count": 23,
   "id": "071d3783",
   "metadata": {},
   "outputs": [],
   "source": [
    "import tensorflow as tf\n",
    "from tensorflow import keras as keras\n",
    "from keras.datasets import mnist\n",
    "from keras.models import Sequential\n",
    "from keras.layers import Dense, Dropout, Activation\n",
    "from keras.optimizers import RMSprop, SGD, Adam\n",
    "from keras import regularizers\n",
    "import numpy as np\n",
    "\n",
    "dt = mnist.load_data()\n",
    "(x_train, y_train), (x_test, y_test) = dt\n",
    "\n",
    "x_trainv = x_train.reshape(60000, 784).astype('float32')/255\n",
    "x_testv = x_test.reshape(10000, 784).astype('float32')/255\n",
    "y_trainc = keras.utils.to_categorical(y_train, 10)\n",
    "y_testc = keras.utils.to_categorical(y_test, 10)"
   ]
  },
  {
   "cell_type": "code",
   "execution_count": 25,
   "id": "8bab321e",
   "metadata": {},
   "outputs": [
    {
     "name": "stdout",
     "output_type": "stream",
     "text": [
      "Epoch 1/10\n",
      "6000/6000 [==============================] - 7s 1ms/step - loss: 0.4319 - accuracy: 0.8943 - val_loss: 0.2434 - val_accuracy: 0.9321\n",
      "Epoch 2/10\n",
      "6000/6000 [==============================] - 7s 1ms/step - loss: 0.2130 - accuracy: 0.9387 - val_loss: 0.1866 - val_accuracy: 0.9472\n",
      "Epoch 3/10\n",
      "6000/6000 [==============================] - 7s 1ms/step - loss: 0.1702 - accuracy: 0.9512 - val_loss: 0.1649 - val_accuracy: 0.9537\n",
      "Epoch 4/10\n",
      "6000/6000 [==============================] - 7s 1ms/step - loss: 0.1453 - accuracy: 0.9585 - val_loss: 0.1544 - val_accuracy: 0.9560\n",
      "Epoch 5/10\n",
      "6000/6000 [==============================] - 7s 1ms/step - loss: 0.1293 - accuracy: 0.9620 - val_loss: 0.1426 - val_accuracy: 0.9579\n",
      "Epoch 6/10\n",
      "6000/6000 [==============================] - 7s 1ms/step - loss: 0.1173 - accuracy: 0.9663 - val_loss: 0.1376 - val_accuracy: 0.9604\n",
      "Epoch 7/10\n",
      "6000/6000 [==============================] - 7s 1ms/step - loss: 0.1074 - accuracy: 0.9686 - val_loss: 0.1333 - val_accuracy: 0.9610\n",
      "Epoch 8/10\n",
      "6000/6000 [==============================] - 7s 1ms/step - loss: 0.1001 - accuracy: 0.9707 - val_loss: 0.1307 - val_accuracy: 0.9621\n",
      "Epoch 9/10\n",
      "6000/6000 [==============================] - 7s 1ms/step - loss: 0.0938 - accuracy: 0.9723 - val_loss: 0.1305 - val_accuracy: 0.9615\n",
      "Epoch 10/10\n",
      "6000/6000 [==============================] - 7s 1ms/step - loss: 0.0880 - accuracy: 0.9744 - val_loss: 0.1309 - val_accuracy: 0.9607\n"
     ]
    }
   ],
   "source": [
    "# Tarea 3 parte a)\n",
    "# La red que hice para la última tarea fue con Adam y categorical crossentropy. No obstante a mí no me funcionó \n",
    "# por lo que cualquier resultado hubiera sido bueno. Posteriormente hice unas correciones y los resultados \n",
    "# fueron más satisfactorios.\n",
    "modelo1 = Sequential([\n",
    "    Dense(30, activation='sigmoid', input_shape=(784,)),\n",
    "    Dense(10, activation=\"softmax\")\n",
    "])\n",
    "\n",
    "modelo1.compile(loss='categorical_crossentropy',optimizer=Adam(learning_rate=1e-3),metrics=['accuracy'])\n",
    "history = modelo1.fit(x_trainv, y_trainc, batch_size = 10, epochs = 10, validation_data = (x_testv, y_testc))"
   ]
  },
  {
   "cell_type": "code",
   "execution_count": 26,
   "id": "28c75362",
   "metadata": {},
   "outputs": [],
   "source": [
    "modelo1.save(\"modelo1.h5\")"
   ]
  },
  {
   "cell_type": "code",
   "execution_count": 30,
   "id": "97a27483",
   "metadata": {},
   "outputs": [
    {
     "name": "stdout",
     "output_type": "stream",
     "text": [
      "Epoch 1/10\n",
      "6000/6000 [==============================] - 15s 2ms/step - loss: 0.2756 - accuracy: 0.9179 - val_loss: 0.1468 - val_accuracy: 0.9558\n",
      "Epoch 2/10\n",
      "6000/6000 [==============================] - 14s 2ms/step - loss: 0.1133 - accuracy: 0.9657 - val_loss: 0.0921 - val_accuracy: 0.9709\n",
      "Epoch 3/10\n",
      "6000/6000 [==============================] - 14s 2ms/step - loss: 0.0690 - accuracy: 0.9785 - val_loss: 0.0805 - val_accuracy: 0.9753\n",
      "Epoch 4/10\n",
      "6000/6000 [==============================] - 15s 2ms/step - loss: 0.0455 - accuracy: 0.9855 - val_loss: 0.0702 - val_accuracy: 0.9787\n",
      "Epoch 5/10\n",
      "6000/6000 [==============================] - 15s 2ms/step - loss: 0.0310 - accuracy: 0.9903 - val_loss: 0.0746 - val_accuracy: 0.9789\n",
      "Epoch 6/10\n",
      "6000/6000 [==============================] - 14s 2ms/step - loss: 0.0213 - accuracy: 0.9934 - val_loss: 0.0806 - val_accuracy: 0.9762\n",
      "Epoch 7/10\n",
      "6000/6000 [==============================] - 14s 2ms/step - loss: 0.0150 - accuracy: 0.9955 - val_loss: 0.0708 - val_accuracy: 0.9804\n",
      "Epoch 8/10\n",
      "6000/6000 [==============================] - 15s 3ms/step - loss: 0.0119 - accuracy: 0.9964 - val_loss: 0.0674 - val_accuracy: 0.9825\n",
      "Epoch 9/10\n",
      "6000/6000 [==============================] - 16s 3ms/step - loss: 0.0080 - accuracy: 0.9975 - val_loss: 0.0803 - val_accuracy: 0.9795\n",
      "Epoch 10/10\n",
      "6000/6000 [==============================] - 15s 3ms/step - loss: 0.0069 - accuracy: 0.9978 - val_loss: 0.0711 - val_accuracy: 0.9829\n"
     ]
    }
   ],
   "source": [
    "# Tarea 3 b.1) \n",
    "\n",
    "modelo2 = Sequential([\n",
    "    Dense(512, activation='sigmoid', input_shape=(784,)),\n",
    "    Dense(10, activation=\"softmax\")\n",
    "])\n",
    "\n",
    "modelo2.compile(loss='categorical_crossentropy',optimizer=Adam(learning_rate=1e-3),metrics=['accuracy'])\n",
    "history = modelo2.fit(x_trainv, y_trainc, batch_size = 10, epochs = 10, validation_data = (x_testv, y_testc))\n",
    "modelo2.save(\"modelo2.h5\")"
   ]
  },
  {
   "cell_type": "code",
   "execution_count": 29,
   "id": "79a99399",
   "metadata": {},
   "outputs": [
    {
     "name": "stdout",
     "output_type": "stream",
     "text": [
      "Epoch 1/10\n",
      "6000/6000 [==============================] - 10s 2ms/step - loss: 0.0863 - accuracy: 0.2502 - val_loss: 0.0801 - val_accuracy: 0.3069\n",
      "Epoch 2/10\n",
      "6000/6000 [==============================] - 8s 1ms/step - loss: 0.0801 - accuracy: 0.3061 - val_loss: 0.0796 - val_accuracy: 0.3087\n",
      "Epoch 3/10\n",
      "6000/6000 [==============================] - 9s 1ms/step - loss: 0.0797 - accuracy: 0.3080 - val_loss: 0.0795 - val_accuracy: 0.3089\n",
      "Epoch 4/10\n",
      "6000/6000 [==============================] - 9s 1ms/step - loss: 0.0795 - accuracy: 0.3088 - val_loss: 0.0793 - val_accuracy: 0.3094\n",
      "Epoch 5/10\n",
      "6000/6000 [==============================] - 9s 1ms/step - loss: 0.0793 - accuracy: 0.3095 - val_loss: 0.0795 - val_accuracy: 0.3093\n",
      "Epoch 6/10\n",
      "6000/6000 [==============================] - 8s 1ms/step - loss: 0.0791 - accuracy: 0.3103 - val_loss: 0.0792 - val_accuracy: 0.3097\n",
      "Epoch 7/10\n",
      "6000/6000 [==============================] - 8s 1ms/step - loss: 0.0790 - accuracy: 0.3106 - val_loss: 0.0791 - val_accuracy: 0.3105\n",
      "Epoch 8/10\n",
      "6000/6000 [==============================] - 9s 1ms/step - loss: 0.0790 - accuracy: 0.3106 - val_loss: 0.0791 - val_accuracy: 0.3103\n",
      "Epoch 9/10\n",
      "6000/6000 [==============================] - 8s 1ms/step - loss: 0.0789 - accuracy: 0.3108 - val_loss: 0.0794 - val_accuracy: 0.3095\n",
      "Epoch 10/10\n",
      "6000/6000 [==============================] - 9s 1ms/step - loss: 0.0789 - accuracy: 0.3109 - val_loss: 0.0793 - val_accuracy: 0.3093\n"
     ]
    }
   ],
   "source": [
    "# Tarea 3 b.2) \n",
    "\n",
    "modelo3 = Sequential([\n",
    "    Dense(256, activation='sigmoid', input_shape=(784,)),\n",
    "    Dense(30, activation='sigmoid'),\n",
    "    Dense(89, activation='sigmoid'),\n",
    "    Dense(10, activation=\"relu\")\n",
    "])\n",
    "\n",
    "modelo3.compile(loss='mean_squared_error',optimizer=Adam(learning_rate=1e-3),metrics=['accuracy'])\n",
    "history = modelo3.fit(x_trainv, y_trainc, batch_size = 10, epochs = 10, validation_data = (x_testv, y_testc))\n",
    "modelo3.save(\"modelo3.h5\")"
   ]
  },
  {
   "cell_type": "code",
   "execution_count": null,
   "id": "8a560a0f",
   "metadata": {},
   "outputs": [],
   "source": []
  }
 ],
 "metadata": {
  "kernelspec": {
   "display_name": "Python 3 (ipykernel)",
   "language": "python",
   "name": "python3"
  },
  "language_info": {
   "codemirror_mode": {
    "name": "ipython",
    "version": 3
   },
   "file_extension": ".py",
   "mimetype": "text/x-python",
   "name": "python",
   "nbconvert_exporter": "python",
   "pygments_lexer": "ipython3",
   "version": "3.10.13"
  }
 },
 "nbformat": 4,
 "nbformat_minor": 5
}
